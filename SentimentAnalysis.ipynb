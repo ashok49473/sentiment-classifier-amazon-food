{
 "cells": [
  {
   "cell_type": "markdown",
   "metadata": {
    "id": "3sjdi9LzT6yK"
   },
   "source": [
    "<center> <h1><u> Sentiment Classifier</u></h1></center>"
   ]
  },
  {
   "cell_type": "markdown",
   "metadata": {
    "id": "c-5M-PqaT6yT"
   },
   "source": [
    "<div style=\"text-align:left\">   \n",
    "<h3> Problem Statement</h3>\n",
    "     To determine whether a given review is positive or negative.\n",
    "<h3>Machine Learning Problem</h3>\n",
    "    Supervised Learning<br>\n",
    "    Binary Classification<br>\n",
    "    Natural Language Processing<br>\n",
    "    Metrics : Accuracy , confusion matrix\n",
    "</div>"
   ]
  },
  {
   "cell_type": "markdown",
   "metadata": {
    "id": "fLII-_-MT6yW"
   },
   "source": [
    "# About data set\n",
    "Data Source: https://www.kaggle.com/snap/amazon-fine-food-reviews<br><br>\n",
    "This dataset consists of reviews of fine foods from amazon.<br> The data span a period of more than 10 years, including all ~500,000 reviews up to October 2012.<br> Reviews include product and user information, ratings, and a plain text review. <br>It also includes reviews from all other Amazon categories.\n",
    "\n",
    "\n",
    "Data includes :\n",
    "   - Reviews from Oct 1999 - Oct 2012\n",
    "   - 568,454 reviews\n",
    "   - 256,059 users\n",
    "   - 74,258 products\n",
    "\n",
    "### Attributes :\n",
    "   - <b>Id</b>\n",
    "   - <b>ProductId</b> : Unique identifier for the product\n",
    "   - <b>UserId</b> : Unqiue identifier for the user\n",
    "   - <b>ProfileName</b> : Name\n",
    "   - <b>HelpfulnessNumerator</b> : Number of users who found the review helpful\n",
    "   - <b>HelpfulnessDenominator</b> : Number of users who indicated whether they found the review helpful or not\n",
    "   - <b>Score</b> : Rating between 1 and 5\n",
    "   - <b>Time</b> : Timestamp for the review\n",
    "   - <b>Summary</b> : Brief summary of the review\n",
    "   - <b>Text</b> : Review text\n",
    "\n",
    "#### We can determine the sentiment of the review as \"positive\" if Score > 3 and \"negative\" if score < 3"
   ]
  },
  {
   "cell_type": "markdown",
   "metadata": {
    "id": "zVZZzf7lT6yY"
   },
   "source": [
    "# Importing modules"
   ]
  },
  {
   "cell_type": "code",
   "execution_count": 62,
   "metadata": {
    "executionInfo": {
     "elapsed": 1904,
     "status": "ok",
     "timestamp": 1617170282458,
     "user": {
      "displayName": "PALIVELA ASHOK KUMAR",
      "photoUrl": "https://lh3.googleusercontent.com/a-/AOh14Ggazbg0PXdJSYQ2PkY2Dwok0Gh0hKmjcvjmga_fyw=s64",
      "userId": "12198348366515253153"
     },
     "user_tz": -330
    },
    "id": "quZ7GLyNT6yZ"
   },
   "outputs": [],
   "source": [
    "import numpy as np\n",
    "import pandas as pd\n",
    "import matplotlib.pyplot as plt\n",
    "import seaborn as sns\n",
    "\n",
    "from sklearn.model_selection import train_test_split, GridSearchCV\n",
    "from sklearn.metrics import accuracy_score, confusion_matrix\n",
    "\n",
    "import string\n",
    "import re\n",
    "\n",
    "from sklearn.feature_extraction.text import TfidfVectorizer\n",
    "from nltk.corpus import stopwords\n",
    "from nltk.stem import PorterStemmer\n",
    "\n",
    "from sklearn.linear_model import LogisticRegression\n",
    "from sklearn.naive_bayes import MultinomialNB\n",
    "\n",
    "import warnings\n",
    "warnings.filterwarnings('ignore')\n",
    "\n",
    "import pickle"
   ]
  },
  {
   "cell_type": "code",
   "execution_count": 63,
   "metadata": {},
   "outputs": [],
   "source": [
    "# UTILITY FUNCTIONS\n",
    "\n",
    "\n",
    "# Confusion matrix\n",
    "def plot_confusion_matrix(y_true, y_pred):\n",
    "    cm = confusion_matrix(y_true, y_pred)\n",
    "    plt.figure(figsize=(4,4))\n",
    "    sns.heatmap(cm, cbar=False, cmap='viridis', annot=True, fmt='.0f')\n",
    "    plt.title(\"Confusion matrix\")\n",
    "    plt.xlabel(\"Predicted Label\")\n",
    "    plt.ylabel(\"True Label\")\n",
    "    return plt.show()\n",
    "\n",
    "# Accuracy Scorer\n",
    "def get_accuracy_score(model,X_train, y_train, X_test, y_test, return_model=False):\n",
    "    model = model.fit(X_train, y_train)\n",
    "    y_preds_train = model.predict(X_train)\n",
    "    y_preds = model.predict(X_test)\n",
    "    print(\"Train accuracy:\", accuracy_score(y_train, y_preds_train))\n",
    "    print(\"Test accuracy:\", accuracy_score(y_test, y_preds))\n",
    "    print()\n",
    "    return model if return_model==True else None\n"
   ]
  },
  {
   "cell_type": "code",
   "execution_count": 66,
   "metadata": {
    "colab": {
     "base_uri": "https://localhost:8080/",
     "height": 225
    },
    "executionInfo": {
     "elapsed": 4244,
     "status": "ok",
     "timestamp": 1617166269585,
     "user": {
      "displayName": "PALIVELA ASHOK KUMAR",
      "photoUrl": "https://lh3.googleusercontent.com/a-/AOh14Ggazbg0PXdJSYQ2PkY2Dwok0Gh0hKmjcvjmga_fyw=s64",
      "userId": "12198348366515253153"
     },
     "user_tz": -330
    },
    "id": "g4JTIKulT6yb",
    "outputId": "76dca1f0-a9f2-497b-ea09-447777841199"
   },
   "outputs": [
    {
     "name": "stdout",
     "output_type": "stream",
     "text": [
      "No. of rows : 568454\n"
     ]
    },
    {
     "data": {
      "text/html": [
       "<div>\n",
       "<style scoped>\n",
       "    .dataframe tbody tr th:only-of-type {\n",
       "        vertical-align: middle;\n",
       "    }\n",
       "\n",
       "    .dataframe tbody tr th {\n",
       "        vertical-align: top;\n",
       "    }\n",
       "\n",
       "    .dataframe thead th {\n",
       "        text-align: right;\n",
       "    }\n",
       "</style>\n",
       "<table border=\"1\" class=\"dataframe\">\n",
       "  <thead>\n",
       "    <tr style=\"text-align: right;\">\n",
       "      <th></th>\n",
       "      <th>Id</th>\n",
       "      <th>ProductId</th>\n",
       "      <th>UserId</th>\n",
       "      <th>ProfileName</th>\n",
       "      <th>HelpfulnessNumerator</th>\n",
       "      <th>HelpfulnessDenominator</th>\n",
       "      <th>Score</th>\n",
       "      <th>Time</th>\n",
       "      <th>Summary</th>\n",
       "      <th>Text</th>\n",
       "    </tr>\n",
       "  </thead>\n",
       "  <tbody>\n",
       "    <tr>\n",
       "      <th>0</th>\n",
       "      <td>1</td>\n",
       "      <td>B001E4KFG0</td>\n",
       "      <td>A3SGXH7AUHU8GW</td>\n",
       "      <td>delmartian</td>\n",
       "      <td>1</td>\n",
       "      <td>1</td>\n",
       "      <td>5</td>\n",
       "      <td>1303862400</td>\n",
       "      <td>Good Quality Dog Food</td>\n",
       "      <td>I have bought several of the Vitality canned d...</td>\n",
       "    </tr>\n",
       "    <tr>\n",
       "      <th>1</th>\n",
       "      <td>2</td>\n",
       "      <td>B00813GRG4</td>\n",
       "      <td>A1D87F6ZCVE5NK</td>\n",
       "      <td>dll pa</td>\n",
       "      <td>0</td>\n",
       "      <td>0</td>\n",
       "      <td>1</td>\n",
       "      <td>1346976000</td>\n",
       "      <td>Not as Advertised</td>\n",
       "      <td>Product arrived labeled as Jumbo Salted Peanut...</td>\n",
       "    </tr>\n",
       "    <tr>\n",
       "      <th>2</th>\n",
       "      <td>3</td>\n",
       "      <td>B000LQOCH0</td>\n",
       "      <td>ABXLMWJIXXAIN</td>\n",
       "      <td>Natalia Corres \"Natalia Corres\"</td>\n",
       "      <td>1</td>\n",
       "      <td>1</td>\n",
       "      <td>4</td>\n",
       "      <td>1219017600</td>\n",
       "      <td>\"Delight\" says it all</td>\n",
       "      <td>This is a confection that has been around a fe...</td>\n",
       "    </tr>\n",
       "  </tbody>\n",
       "</table>\n",
       "</div>"
      ],
      "text/plain": [
       "   Id   ProductId          UserId                      ProfileName  \\\n",
       "0   1  B001E4KFG0  A3SGXH7AUHU8GW                       delmartian   \n",
       "1   2  B00813GRG4  A1D87F6ZCVE5NK                           dll pa   \n",
       "2   3  B000LQOCH0   ABXLMWJIXXAIN  Natalia Corres \"Natalia Corres\"   \n",
       "\n",
       "   HelpfulnessNumerator  HelpfulnessDenominator  Score        Time  \\\n",
       "0                     1                       1      5  1303862400   \n",
       "1                     0                       0      1  1346976000   \n",
       "2                     1                       1      4  1219017600   \n",
       "\n",
       "                 Summary                                               Text  \n",
       "0  Good Quality Dog Food  I have bought several of the Vitality canned d...  \n",
       "1      Not as Advertised  Product arrived labeled as Jumbo Salted Peanut...  \n",
       "2  \"Delight\" says it all  This is a confection that has been around a fe...  "
      ]
     },
     "execution_count": 66,
     "metadata": {},
     "output_type": "execute_result"
    }
   ],
   "source": [
    "# Loading data into memory\n",
    "data = pd.read_csv('Reviews.csv')\n",
    "print(\"No. of rows :\", data.shape[0])\n",
    "data.head(3)"
   ]
  },
  {
   "cell_type": "code",
   "execution_count": 67,
   "metadata": {
    "colab": {
     "base_uri": "https://localhost:8080/",
     "height": 112
    },
    "executionInfo": {
     "elapsed": 1365,
     "status": "ok",
     "timestamp": 1617166272615,
     "user": {
      "displayName": "PALIVELA ASHOK KUMAR",
      "photoUrl": "https://lh3.googleusercontent.com/a-/AOh14Ggazbg0PXdJSYQ2PkY2Dwok0Gh0hKmjcvjmga_fyw=s64",
      "userId": "12198348366515253153"
     },
     "user_tz": -330
    },
    "id": "I4DRXBiWT6ye",
    "outputId": "58f0725d-fa6a-47a2-df53-0117a8e0e4e7"
   },
   "outputs": [
    {
     "data": {
      "text/html": [
       "<div>\n",
       "<style scoped>\n",
       "    .dataframe tbody tr th:only-of-type {\n",
       "        vertical-align: middle;\n",
       "    }\n",
       "\n",
       "    .dataframe tbody tr th {\n",
       "        vertical-align: top;\n",
       "    }\n",
       "\n",
       "    .dataframe thead th {\n",
       "        text-align: right;\n",
       "    }\n",
       "</style>\n",
       "<table border=\"1\" class=\"dataframe\">\n",
       "  <thead>\n",
       "    <tr style=\"text-align: right;\">\n",
       "      <th></th>\n",
       "      <th># Missing values</th>\n",
       "    </tr>\n",
       "  </thead>\n",
       "  <tbody>\n",
       "    <tr>\n",
       "      <th>Id</th>\n",
       "      <td>0</td>\n",
       "    </tr>\n",
       "    <tr>\n",
       "      <th>ProductId</th>\n",
       "      <td>0</td>\n",
       "    </tr>\n",
       "    <tr>\n",
       "      <th>UserId</th>\n",
       "      <td>0</td>\n",
       "    </tr>\n",
       "    <tr>\n",
       "      <th>ProfileName</th>\n",
       "      <td>16</td>\n",
       "    </tr>\n",
       "    <tr>\n",
       "      <th>HelpfulnessNumerator</th>\n",
       "      <td>0</td>\n",
       "    </tr>\n",
       "    <tr>\n",
       "      <th>HelpfulnessDenominator</th>\n",
       "      <td>0</td>\n",
       "    </tr>\n",
       "    <tr>\n",
       "      <th>Score</th>\n",
       "      <td>0</td>\n",
       "    </tr>\n",
       "    <tr>\n",
       "      <th>Time</th>\n",
       "      <td>0</td>\n",
       "    </tr>\n",
       "    <tr>\n",
       "      <th>Summary</th>\n",
       "      <td>27</td>\n",
       "    </tr>\n",
       "    <tr>\n",
       "      <th>Text</th>\n",
       "      <td>0</td>\n",
       "    </tr>\n",
       "  </tbody>\n",
       "</table>\n",
       "</div>"
      ],
      "text/plain": [
       "                        # Missing values\n",
       "Id                                     0\n",
       "ProductId                              0\n",
       "UserId                                 0\n",
       "ProfileName                           16\n",
       "HelpfulnessNumerator                   0\n",
       "HelpfulnessDenominator                 0\n",
       "Score                                  0\n",
       "Time                                   0\n",
       "Summary                               27\n",
       "Text                                   0"
      ]
     },
     "execution_count": 67,
     "metadata": {},
     "output_type": "execute_result"
    }
   ],
   "source": [
    "# Check null values\n",
    "data.isna().sum().to_frame(name='# Missing values')"
   ]
  },
  {
   "cell_type": "code",
   "execution_count": 69,
   "metadata": {},
   "outputs": [
    {
     "name": "stdout",
     "output_type": "stream",
     "text": [
      "No. of rows removed : 43\n",
      "\n",
      "Percentage of data removed:0.01%\n",
      "Percentage of data remaining:99.99%\n"
     ]
    }
   ],
   "source": [
    "# Remove rows which are having null values\n",
    "\n",
    "total_rows =  data.shape[0]\n",
    "data.dropna(how='any',inplace=True)\n",
    "remaining_rows= data.shape[0]\n",
    "\n",
    "removed_rows = total_rows-remaining_rows\n",
    "print(\"No. of rows removed :\", removed_rows)\n",
    "\n",
    "print(f\"\\nPercentage of data removed:{np.round((removed_rows/total_rows)*100,2)}%\")\n",
    "print(f\"Percentage of data remaining:{np.round((remaining_rows/total_rows)*100,2)}%\")"
   ]
  },
  {
   "cell_type": "code",
   "execution_count": 70,
   "metadata": {
    "colab": {
     "base_uri": "https://localhost:8080/"
    },
    "executionInfo": {
     "elapsed": 1768,
     "status": "ok",
     "timestamp": 1617166283527,
     "user": {
      "displayName": "PALIVELA ASHOK KUMAR",
      "photoUrl": "https://lh3.googleusercontent.com/a-/AOh14Ggazbg0PXdJSYQ2PkY2Dwok0Gh0hKmjcvjmga_fyw=s64",
      "userId": "12198348366515253153"
     },
     "user_tz": -330
    },
    "id": "Uh9sjY0uT6yg",
    "outputId": "53f31103-48b1-4104-d69b-c883b9a6c4aa"
   },
   "outputs": [
    {
     "name": "stdout",
     "output_type": "stream",
     "text": [
      "No. of rows removed : 42638\n",
      "\n",
      "Percentage of data removed:7.5%\n",
      "Percentage of data remaining:92.49%\n"
     ]
    }
   ],
   "source": [
    "# Remove rows where Score == 3\n",
    "\n",
    "a =  data.shape[0]\n",
    "data = data.loc[data.Score != 3]\n",
    "b = data.shape[0]\n",
    "\n",
    "print(\"No. of rows removed :\", a-b)\n",
    "\n",
    "print(f\"\\nPercentage of data removed: {np.round(((a-b)/total_rows)*100,2)}%\")\n",
    "print(f\"Percentage of data remaining: {np.round((b/total_rows)*100,2)}%\")"
   ]
  },
  {
   "cell_type": "markdown",
   "metadata": {},
   "source": [
    "### Add Sentiment variable :\n",
    "1 -- positive review<br>\n",
    "0 -- negative review<br>\n",
    "\n",
    "Sentiment == 1 if Score > 3 <br>\n",
    "Sentiment == 0 if Score < 3\n"
   ]
  },
  {
   "cell_type": "code",
   "execution_count": 71,
   "metadata": {},
   "outputs": [],
   "source": [
    "data.loc[:, \"Sentiment\"] = data.Score.apply(lambda x : 1 if x > 3 else 0)"
   ]
  },
  {
   "cell_type": "code",
   "execution_count": 72,
   "metadata": {},
   "outputs": [
    {
     "data": {
      "text/html": [
       "<div>\n",
       "<style scoped>\n",
       "    .dataframe tbody tr th:only-of-type {\n",
       "        vertical-align: middle;\n",
       "    }\n",
       "\n",
       "    .dataframe tbody tr th {\n",
       "        vertical-align: top;\n",
       "    }\n",
       "\n",
       "    .dataframe thead th {\n",
       "        text-align: right;\n",
       "    }\n",
       "</style>\n",
       "<table border=\"1\" class=\"dataframe\">\n",
       "  <thead>\n",
       "    <tr style=\"text-align: right;\">\n",
       "      <th></th>\n",
       "      <th>Text</th>\n",
       "      <th>Sentiment</th>\n",
       "    </tr>\n",
       "  </thead>\n",
       "  <tbody>\n",
       "    <tr>\n",
       "      <th>0</th>\n",
       "      <td>I have bought several of the Vitality canned d...</td>\n",
       "      <td>1</td>\n",
       "    </tr>\n",
       "    <tr>\n",
       "      <th>1</th>\n",
       "      <td>Product arrived labeled as Jumbo Salted Peanut...</td>\n",
       "      <td>0</td>\n",
       "    </tr>\n",
       "    <tr>\n",
       "      <th>2</th>\n",
       "      <td>This is a confection that has been around a fe...</td>\n",
       "      <td>1</td>\n",
       "    </tr>\n",
       "    <tr>\n",
       "      <th>3</th>\n",
       "      <td>If you are looking for the secret ingredient i...</td>\n",
       "      <td>0</td>\n",
       "    </tr>\n",
       "    <tr>\n",
       "      <th>4</th>\n",
       "      <td>Great taffy at a great price.  There was a wid...</td>\n",
       "      <td>1</td>\n",
       "    </tr>\n",
       "  </tbody>\n",
       "</table>\n",
       "</div>"
      ],
      "text/plain": [
       "                                                Text  Sentiment\n",
       "0  I have bought several of the Vitality canned d...          1\n",
       "1  Product arrived labeled as Jumbo Salted Peanut...          0\n",
       "2  This is a confection that has been around a fe...          1\n",
       "3  If you are looking for the secret ingredient i...          0\n",
       "4  Great taffy at a great price.  There was a wid...          1"
      ]
     },
     "execution_count": 72,
     "metadata": {},
     "output_type": "execute_result"
    }
   ],
   "source": [
    "# Select input and target variables\n",
    "\n",
    "data = data[[\"Text\", \"Sentiment\"]]\n",
    "data.head()"
   ]
  },
  {
   "cell_type": "code",
   "execution_count": 74,
   "metadata": {},
   "outputs": [
    {
     "name": "stdout",
     "output_type": "stream",
     "text": [
      "No. of rows removed : 161944\n",
      "\n",
      "Percentage of data removed: 28.49%\n",
      "Percentage of data remaining: 64.0%\n"
     ]
    }
   ],
   "source": [
    "# Remove dupicate rows\n",
    "\n",
    "a =  data.shape[0]\n",
    "data.drop_duplicates(inplace=True)\n",
    "b = data.shape[0]\n",
    "\n",
    "print(\"No. of rows removed :\", a-b)\n",
    "\n",
    "print(f\"\\nPercentage of data removed: {np.round(((a-b)/total_rows)*100,2)}%\")\n",
    "print(f\"Percentage of data remaining: {np.round((b/total_rows)*100,2)}%\")"
   ]
  },
  {
   "cell_type": "code",
   "execution_count": 75,
   "metadata": {
    "colab": {
     "base_uri": "https://localhost:8080/",
     "height": 292
    },
    "executionInfo": {
     "elapsed": 1611,
     "status": "ok",
     "timestamp": 1617166293165,
     "user": {
      "displayName": "PALIVELA ASHOK KUMAR",
      "photoUrl": "https://lh3.googleusercontent.com/a-/AOh14Ggazbg0PXdJSYQ2PkY2Dwok0Gh0hKmjcvjmga_fyw=s64",
      "userId": "12198348366515253153"
     },
     "user_tz": -330
    },
    "id": "vciEJsY9T6yj",
    "outputId": "d3958f9c-5d7a-4ed2-aa17-f65ffade8301"
   },
   "outputs": [
    {
     "data": {
      "image/png": "[encoded data removed]",
      "text/plain": [
       "<Figure size 432x288 with 1 Axes>"
      ]
     },
     "metadata": {
      "needs_background": "light"
     },
     "output_type": "display_data"
    }
   ],
   "source": [
    "# Class distribution\n",
    "fig = data.Sentiment.value_counts().plot.bar(color='skyblue')\n",
    "fig.set_title(\"Class distribution\")\n",
    "fig.set_ylabel(\"# of Reviews\")\n",
    "fig.set_xlabel(\"Sentiment of Review\")\n",
    "plt.show()"
   ]
  },
  {
   "cell_type": "markdown",
   "metadata": {
    "id": "SyG7H383T6yk"
   },
   "source": [
    "Observation:<br> It is a highly imbalanced dataset.<br>Positive reviews are dominant class.\n"
   ]
  },
  {
   "cell_type": "markdown",
   "metadata": {
    "id": "at8rD6Vwlhfz"
   },
   "source": [
    "# Down Sampling"
   ]
  },
  {
   "cell_type": "code",
   "execution_count": 76,
   "metadata": {
    "colab": {
     "base_uri": "https://localhost:8080/"
    },
    "executionInfo": {
     "elapsed": 1353,
     "status": "ok",
     "timestamp": 1617166320543,
     "user": {
      "displayName": "PALIVELA ASHOK KUMAR",
      "photoUrl": "https://lh3.googleusercontent.com/a-/AOh14Ggazbg0PXdJSYQ2PkY2Dwok0Gh0hKmjcvjmga_fyw=s64",
      "userId": "12198348366515253153"
     },
     "user_tz": -330
    },
    "id": "FDagviBglfDV",
    "outputId": "612502d2-0c96-46d6-d222-628baa6daf61"
   },
   "outputs": [
    {
     "name": "stdout",
     "output_type": "stream",
     "text": [
      "No. of rows removed : 249693\n",
      "\n",
      "Percentage of data removed: 43.92%\n",
      "Percentage of data remaining: 20.08%\n"
     ]
    }
   ],
   "source": [
    "#negative reviews\n",
    "neg_data = data.loc[data.Sentiment == 0]\n",
    "\n",
    "# positive reviews\n",
    "pos_data = data.loc[data.Sentiment == 1][:neg_data.shape[0]]\n",
    "\n",
    "# balanced data\n",
    "a = data.shape[0]\n",
    "data = pd.concat([pos_data, neg_data])\n",
    "data = data.sample(frac=1, random_state=1)\n",
    "b = data.shape[0]\n",
    "\n",
    "\n",
    "print(\"No. of rows removed :\", a-b)\n",
    "\n",
    "print(f\"\\nPercentage of data removed: {np.round(((a-b)/total_rows)*100,2)}%\")\n",
    "print(f\"Percentage of data remaining: {np.round((b/total_rows)*100,2)}%\")"
   ]
  },
  {
   "cell_type": "code",
   "execution_count": 77,
   "metadata": {
    "colab": {
     "base_uri": "https://localhost:8080/",
     "height": 292
    },
    "executionInfo": {
     "elapsed": 1516,
     "status": "ok",
     "timestamp": 1617166339028,
     "user": {
      "displayName": "PALIVELA ASHOK KUMAR",
      "photoUrl": "https://lh3.googleusercontent.com/a-/AOh14Ggazbg0PXdJSYQ2PkY2Dwok0Gh0hKmjcvjmga_fyw=s64",
      "userId": "12198348366515253153"
     },
     "user_tz": -330
    },
    "id": "0WV5JHqUn_Gm",
    "outputId": "29032237-d602-454e-cbdb-71b4ac067793"
   },
   "outputs": [
    {
     "data": {
      "image/png": "[encoded data removed]",
      "text/plain": [
       "<Figure size 432x288 with 1 Axes>"
      ]
     },
     "metadata": {
      "needs_background": "light"
     },
     "output_type": "display_data"
    }
   ],
   "source": [
    "# Class distribution\n",
    "fig = data.Sentiment.value_counts().plot.bar(color='skyblue')\n",
    "fig.set_title(\"Class distribution\")\n",
    "fig.set_ylabel(\"# of Reviews\")\n",
    "fig.set_xlabel(\"Sentiment of Review\")\n",
    "plt.show()"
   ]
  },
  {
   "cell_type": "code",
   "execution_count": 80,
   "metadata": {},
   "outputs": [
    {
     "name": "stdout",
     "output_type": "stream",
     "text": [
      "(114136, 2)\n"
     ]
    }
   ],
   "source": [
    "# Final data is around 114k which is enough for our modelling\n",
    "print(data.shape)"
   ]
  },
  {
   "cell_type": "code",
   "execution_count": 81,
   "metadata": {},
   "outputs": [],
   "source": [
    "# Credits:\n",
    "# https://pymotw.com/2/re/\n",
    "# https://stackoverflow.com/questions/19084443/replacing-digits-with-str-replace\n",
    "# https://stackoverflow.com/questions/265960/best-way-to-strip-punctuation-from-a-string\n",
    "\n",
    "total_stopwords = set(stopwords.words('english'))\n",
    "negative_stop_words = set(word for word in total_stopwords if \"n't\" in word or 'no' in word)\n",
    "# subtract negative stop words like no, not, don't etc.. from total_stopwords\n",
    "final_stopwords = total_stopwords.symmetric_difference(negative_stop_words)\n",
    "stemmer = PorterStemmer()\n",
    "\n",
    "def preprocessor(review):\n",
    "    # remove html tags\n",
    "    HTMLTAGS = re.compile('<.*?>')\n",
    "    review = HTMLTAGS.sub(r'', review)\n",
    "    # remove puncutuation\n",
    "    table = str.maketrans(dict.fromkeys(string.punctuation))\n",
    "    review = review.translate(table)\n",
    "    # remove digits\n",
    "    remove_digits = str.maketrans('', '', string.digits)\n",
    "    review = review.translate(remove_digits)\n",
    "    # lower case all letters\n",
    "    review = review.lower()\n",
    "    # replace multiple white spaces with single space\n",
    "    MULTIPLE_WHITESPACE = re.compile(r\"\\s+\")\n",
    "    review = MULTIPLE_WHITESPACE.sub(\" \", review).strip()\n",
    "    # remove stop words\n",
    "    review = [word for word in review.split() if word not in final_stopwords]\n",
    "    # stemming\n",
    "    review = ' '.join([stemmer.stem(word) for word in review])\n",
    "    return review"
   ]
  },
  {
   "cell_type": "markdown",
   "metadata": {},
   "source": [
    "# Data cleaning"
   ]
  },
  {
   "cell_type": "code",
   "execution_count": 84,
   "metadata": {},
   "outputs": [],
   "source": [
    "X = data['Text']\n",
    "y = data['Sentiment']"
   ]
  },
  {
   "cell_type": "code",
   "execution_count": 83,
   "metadata": {},
   "outputs": [
    {
     "data": {
      "text/plain": [
       "39884     Tis decafinated tea is good tasting and makes ...\n",
       "130039    not sure why the excessive price...is there a ...\n",
       "387193    Full of sugar.  I like the recyclable cans but...\n",
       "Name: Text, dtype: object"
      ]
     },
     "execution_count": 83,
     "metadata": {},
     "output_type": "execute_result"
    }
   ],
   "source": [
    "X.head(3)"
   ]
  },
  {
   "cell_type": "code",
   "execution_count": 86,
   "metadata": {},
   "outputs": [],
   "source": [
    "X = X.apply(preprocessor)"
   ]
  },
  {
   "cell_type": "code",
   "execution_count": 87,
   "metadata": {},
   "outputs": [
    {
     "data": {
      "text/plain": [
       "39884     ti decafin tea good tast make digest system wo...\n",
       "130039    not sure excess pricei run nondairi nonsteroid...\n",
       "387193    full sugar like recycl can not sugar besid fal...\n",
       "Name: Text, dtype: object"
      ]
     },
     "execution_count": 87,
     "metadata": {},
     "output_type": "execute_result"
    }
   ],
   "source": [
    "X.head(3)"
   ]
  },
  {
   "cell_type": "code",
   "execution_count": 88,
   "metadata": {
    "executionInfo": {
     "elapsed": 1403,
     "status": "ok",
     "timestamp": 1617166384714,
     "user": {
      "displayName": "PALIVELA ASHOK KUMAR",
      "photoUrl": "https://lh3.googleusercontent.com/a-/AOh14Ggazbg0PXdJSYQ2PkY2Dwok0Gh0hKmjcvjmga_fyw=s64",
      "userId": "12198348366515253153"
     },
     "user_tz": -330
    },
    "id": "JF9JUJuGT6yl"
   },
   "outputs": [],
   "source": [
    "# Data splitting :train - test\n",
    "\n",
    "X_train, X_test, y_train, y_test = train_test_split(X, y, test_size=0.25, random_state=1)"
   ]
  },
  {
   "cell_type": "code",
   "execution_count": 89,
   "metadata": {
    "executionInfo": {
     "elapsed": 18461,
     "status": "ok",
     "timestamp": 1617170832530,
     "user": {
      "displayName": "PALIVELA ASHOK KUMAR",
      "photoUrl": "https://lh3.googleusercontent.com/a-/AOh14Ggazbg0PXdJSYQ2PkY2Dwok0Gh0hKmjcvjmga_fyw=s64",
      "userId": "12198348366515253153"
     },
     "user_tz": -330
    },
    "id": "NNF4xD6CT6yn"
   },
   "outputs": [
    {
     "data": {
      "text/plain": [
       "TfidfVectorizer(max_features=15000)"
      ]
     },
     "execution_count": 89,
     "metadata": {},
     "output_type": "execute_result"
    }
   ],
   "source": [
    "# Tfidf-vectorizer\n",
    "vectorizer = TfidfVectorizer(max_features=15000)\n",
    "vectorizer.fit(X_train)"
   ]
  },
  {
   "cell_type": "code",
   "execution_count": 90,
   "metadata": {},
   "outputs": [],
   "source": [
    "tfidf_X_train = vectorizer.transform(X_train)\n",
    "tfidf_X_test = vectorizer.transform(X_test)"
   ]
  },
  {
   "cell_type": "markdown",
   "metadata": {
    "id": "KY3_fdCNT6yo"
   },
   "source": [
    "# 4. Machine Learning\n",
    "- Classification Algorithms\n",
    "    - Multinomial Naive Bayes\n",
    "    - Logistic regression\n",
    "    \n",
    "\n",
    "- Metrics\n",
    "    - accuracy\n",
    "  \n"
   ]
  },
  {
   "cell_type": "markdown",
   "metadata": {},
   "source": [
    "## Base model : Multinomial Naive Bayes"
   ]
  },
  {
   "cell_type": "code",
   "execution_count": 92,
   "metadata": {
    "colab": {
     "base_uri": "https://localhost:8080/"
    },
    "executionInfo": {
     "elapsed": 3176,
     "status": "ok",
     "timestamp": 1617170847762,
     "user": {
      "displayName": "PALIVELA ASHOK KUMAR",
      "photoUrl": "https://lh3.googleusercontent.com/a-/AOh14Ggazbg0PXdJSYQ2PkY2Dwok0Gh0hKmjcvjmga_fyw=s64",
      "userId": "12198348366515253153"
     },
     "user_tz": -330
    },
    "id": "4bj2pbXwt2YW",
    "outputId": "65312133-c20b-48be-f9ba-acfbe72db94e"
   },
   "outputs": [
    {
     "name": "stdout",
     "output_type": "stream",
     "text": [
      "Train accuracy: 0.8815798696292143\n",
      "Test accuracy: 0.8618139763089647\n",
      "\n"
     ]
    }
   ],
   "source": [
    "get_accuracy_score(MultinomialNB(),tfidf_X_train, y_train, tfidf_X_test, y_test)"
   ]
  },
  {
   "cell_type": "markdown",
   "metadata": {},
   "source": [
    "## Logistic regression"
   ]
  },
  {
   "cell_type": "code",
   "execution_count": 94,
   "metadata": {
    "colab": {
     "base_uri": "https://localhost:8080/"
    },
    "executionInfo": {
     "elapsed": 7502,
     "status": "ok",
     "timestamp": 1617170871658,
     "user": {
      "displayName": "PALIVELA ASHOK KUMAR",
      "photoUrl": "https://lh3.googleusercontent.com/a-/AOh14Ggazbg0PXdJSYQ2PkY2Dwok0Gh0hKmjcvjmga_fyw=s64",
      "userId": "12198348366515253153"
     },
     "user_tz": -330
    },
    "id": "MjhkYVoRub8p",
    "outputId": "c9d1415b-4bf7-4962-9215-4cf0d3b26b76"
   },
   "outputs": [
    {
     "name": "stdout",
     "output_type": "stream",
     "text": [
      "Train accuracy: 0.9063222821896685\n",
      "Test accuracy: 0.889009602579379\n",
      "\n"
     ]
    }
   ],
   "source": [
    "get_accuracy_score(LogisticRegression(),tfidf_X_train, y_train, tfidf_X_test, y_test)"
   ]
  },
  {
   "cell_type": "markdown",
   "metadata": {
    "id": "ovPbLkwpvR7a"
   },
   "source": [
    "### Hyper parameter tuning"
   ]
  },
  {
   "cell_type": "code",
   "execution_count": 96,
   "metadata": {
    "colab": {
     "base_uri": "https://localhost:8080/"
    },
    "executionInfo": {
     "elapsed": 80795,
     "status": "ok",
     "timestamp": 1617170971885,
     "user": {
      "displayName": "PALIVELA ASHOK KUMAR",
      "photoUrl": "https://lh3.googleusercontent.com/a-/AOh14Ggazbg0PXdJSYQ2PkY2Dwok0Gh0hKmjcvjmga_fyw=s64",
      "userId": "12198348366515253153"
     },
     "user_tz": -330
    },
    "id": "kkP-enYRvQ1Z",
    "outputId": "e4f38475-3ebb-4cb5-f3c0-dd5187695776"
   },
   "outputs": [
    {
     "data": {
      "text/plain": [
       "GridSearchCV(estimator=LogisticRegression(), n_jobs=-1,\n",
       "             param_grid={'C': [0.001, 0.01, 0.1, 1, 10, 100]},\n",
       "             scoring='accuracy')"
      ]
     },
     "execution_count": 96,
     "metadata": {},
     "output_type": "execute_result"
    }
   ],
   "source": [
    "search = GridSearchCV(cv=None,\n",
    "                      estimator=LogisticRegression(),\n",
    "                      param_grid={'C': [0.001, 0.01, 0.1, 1, 10, 100]},\n",
    "                      scoring='accuracy',\n",
    "                      n_jobs=-1)\n",
    "search.fit(tfidf_X_train, y_train)"
   ]
  },
  {
   "cell_type": "code",
   "execution_count": 97,
   "metadata": {
    "colab": {
     "base_uri": "https://localhost:8080/"
    },
    "executionInfo": {
     "elapsed": 1557,
     "status": "ok",
     "timestamp": 1617170973478,
     "user": {
      "displayName": "PALIVELA ASHOK KUMAR",
      "photoUrl": "https://lh3.googleusercontent.com/a-/AOh14Ggazbg0PXdJSYQ2PkY2Dwok0Gh0hKmjcvjmga_fyw=s64",
      "userId": "12198348366515253153"
     },
     "user_tz": -330
    },
    "id": "1tEXJyMl3JSr",
    "outputId": "f076d39a-9776-4024-e3cc-2788ab9ae948"
   },
   "outputs": [
    {
     "name": "stdout",
     "output_type": "stream",
     "text": [
      "0.8878530874528575\n"
     ]
    }
   ],
   "source": [
    "print(search.best_score_)"
   ]
  },
  {
   "cell_type": "code",
   "execution_count": 98,
   "metadata": {},
   "outputs": [
    {
     "name": "stdout",
     "output_type": "stream",
     "text": [
      "LogisticRegression(C=1)\n"
     ]
    }
   ],
   "source": [
    "print(search.best_estimator_)"
   ]
  },
  {
   "cell_type": "code",
   "execution_count": 100,
   "metadata": {
    "colab": {
     "base_uri": "https://localhost:8080/"
    },
    "executionInfo": {
     "elapsed": 5290,
     "status": "ok",
     "timestamp": 1617170977223,
     "user": {
      "displayName": "PALIVELA ASHOK KUMAR",
      "photoUrl": "https://lh3.googleusercontent.com/a-/AOh14Ggazbg0PXdJSYQ2PkY2Dwok0Gh0hKmjcvjmga_fyw=s64",
      "userId": "12198348366515253153"
     },
     "user_tz": -330
    },
    "id": "WsI6sDZR3fyP",
    "outputId": "551ce297-b43b-4c2f-bb14-a224f2fd6421"
   },
   "outputs": [
    {
     "name": "stdout",
     "output_type": "stream",
     "text": [
      "Train accuracy: 0.9063222821896685\n",
      "Test accuracy: 0.889009602579379\n",
      "\n"
     ]
    }
   ],
   "source": [
    "# Training final model\n",
    "final_model = get_accuracy_score(search.best_estimator_,\n",
    "                           tfidf_X_train, y_train,\n",
    "                           tfidf_X_test, y_test,\n",
    "                           return_model=True)"
   ]
  },
  {
   "cell_type": "code",
   "execution_count": 101,
   "metadata": {},
   "outputs": [
    {
     "data": {
      "image/png": "[encoded data removed]",
      "text/plain": [
       "<Figure size 288x288 with 1 Axes>"
      ]
     },
     "metadata": {
      "needs_background": "light"
     },
     "output_type": "display_data"
    }
   ],
   "source": [
    "#Confusion matrix\n",
    "y_pred = final_model.predict(tfidf_X_test)\n",
    "plot_confusion_matrix(y_test, y_pred)"
   ]
  },
  {
   "cell_type": "markdown",
   "metadata": {
    "id": "JKV5Tqz94zWz"
   },
   "source": [
    "### Save the vectorizer and final model"
   ]
  },
  {
   "cell_type": "code",
   "execution_count": 102,
   "metadata": {},
   "outputs": [],
   "source": [
    "with open(\"tfidf_vectorizer.pkl\", \"wb\") as f:\n",
    "    pickle.dump(vectorizer, f)\n",
    "\n",
    "with open(\"model.pkl\", \"wb\") as f:\n",
    "    pickle.dump(final_model, f)"
   ]
  },
  {
   "cell_type": "code",
   "execution_count": null,
   "metadata": {},
   "outputs": [],
   "source": [
    "#########################Self-check ################################"
   ]
  },
  {
   "cell_type": "code",
   "execution_count": 103,
   "metadata": {},
   "outputs": [
    {
     "data": {
      "text/plain": [
       "'I have bought several of the Vitality canned dog food products and have found them all to be of good quality. The product looks more like a stew than a processed meat and it smells better. My Labrador is finicky and she appreciates this product better than  most.'"
      ]
     },
     "execution_count": 103,
     "metadata": {},
     "output_type": "execute_result"
    }
   ],
   "source": [
    "text = data.loc[0].values[0]\n",
    "text\n",
    "# label = 1"
   ]
  },
  {
   "cell_type": "code",
   "execution_count": 106,
   "metadata": {},
   "outputs": [],
   "source": [
    "with open(\"tfidf_vectorizer.pkl\", \"rb\") as f:\n",
    "    vectorizer = pickle.load(f)\n",
    "\n",
    "with open(\"model.pkl\", \"rb\") as f:\n",
    "    model = pickle.load(f)"
   ]
  },
  {
   "cell_type": "code",
   "execution_count": 117,
   "metadata": {},
   "outputs": [],
   "source": [
    "def predict(text):\n",
    "    review = preprocessor(text)\n",
    "    x = vectorizer.transform([review])\n",
    "    y = model.predict(x)[0]\n",
    "    return y"
   ]
  },
  {
   "cell_type": "code",
   "execution_count": 118,
   "metadata": {},
   "outputs": [
    {
     "data": {
      "text/plain": [
       "1"
      ]
     },
     "execution_count": 118,
     "metadata": {},
     "output_type": "execute_result"
    }
   ],
   "source": [
    "predict(text)"
   ]
  },
  {
   "cell_type": "code",
   "execution_count": null,
   "metadata": {},
   "outputs": [],
   "source": []
  }
 ],
 "metadata": {
  "accelerator": "GPU",
  "colab": {
   "collapsed_sections": [],
   "name": "Sentiment Analysis.ipynb",
   "provenance": []
  },
  "kernelspec": {
   "display_name": "Python 3",
   "language": "python",
   "name": "python3"
  },
  "language_info": {
   "codemirror_mode": {
    "name": "ipython",
    "version": 3
   },
   "file_extension": ".py",
   "mimetype": "text/x-python",
   "name": "python",
   "nbconvert_exporter": "python",
   "pygments_lexer": "ipython3",
   "version": "3.7.9"
  }
 },
 "nbformat": 4,
 "nbformat_minor": 1
}
